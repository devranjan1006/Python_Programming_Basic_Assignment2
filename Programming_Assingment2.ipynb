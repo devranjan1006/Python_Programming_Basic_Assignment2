{
 "cells": [
  {
   "cell_type": "markdown",
   "metadata": {},
   "source": [
    "# Python Programming Assignment 2"
   ]
  },
  {
   "cell_type": "markdown",
   "metadata": {},
   "source": [
    "1.\tWrite a Python program to convert kilometers to miles?"
   ]
  },
  {
   "cell_type": "code",
   "execution_count": 3,
   "metadata": {},
   "outputs": [],
   "source": [
    "# Program to convert kilometers into miles\n",
    "\n",
    "# Defining function for conversion\n",
    "def km_to_mile(k):\n",
    "    m = k / 1.609\n",
    "    print('The value in miles is: ',m,'miles')"
   ]
  },
  {
   "cell_type": "code",
   "execution_count": 4,
   "metadata": {},
   "outputs": [
    {
     "name": "stdout",
     "output_type": "stream",
     "text": [
      "Enter the value in kilometer: 54\n",
      "The value in kilometers is:  54.0 kms\n",
      "The value in miles is:  33.56121814791796 miles\n"
     ]
    }
   ],
   "source": [
    "# Taking the value of kilometers as input\n",
    "k = float(input('Enter the value in kilometer: '))\n",
    "print('The value in kilometers is: ',k,'kms')\n",
    "\n",
    "# Calling the conversion function\n",
    "km_to_mile(k)"
   ]
  },
  {
   "cell_type": "markdown",
   "metadata": {},
   "source": [
    "2.\tWrite a Python program to convert Celsius to Fahrenheit?"
   ]
  },
  {
   "cell_type": "code",
   "execution_count": 7,
   "metadata": {},
   "outputs": [],
   "source": [
    "# Program to convert celcius into fahrenheit\n",
    "\n",
    "# Defining function for conversion\n",
    "def deg_to_fah(d):\n",
    "    f = (d * 9 / 5) + 32\n",
    "    print('The value in fahrenheit is: ',f,'fahrenheit')"
   ]
  },
  {
   "cell_type": "code",
   "execution_count": 8,
   "metadata": {},
   "outputs": [
    {
     "name": "stdout",
     "output_type": "stream",
     "text": [
      "Enter the temperature in degree: 98\n",
      "The value in degree is:  98.0 degrees\n",
      "The value in fahrenheit is:  208.4 fahrenheit\n"
     ]
    }
   ],
   "source": [
    "# Taking the value of kilometers as input\n",
    "d = float(input('Enter the temperature in degree: '))\n",
    "print('The value in degree is: ',d,'degrees')\n",
    "\n",
    "# Calling the conversion function\n",
    "deg_to_fah(d)"
   ]
  },
  {
   "cell_type": "markdown",
   "metadata": {},
   "source": [
    "3.\tWrite a Python program to display calendar?"
   ]
  },
  {
   "cell_type": "code",
   "execution_count": 13,
   "metadata": {},
   "outputs": [
    {
     "name": "stdout",
     "output_type": "stream",
     "text": [
      "Enter year: 2021\n",
      "Enter month: 6\n",
      "\n",
      "\n",
      "     June 2021\n",
      "Mo Tu We Th Fr Sa Su\n",
      "    1  2  3  4  5  6\n",
      " 7  8  9 10 11 12 13\n",
      "14 15 16 17 18 19 20\n",
      "21 22 23 24 25 26 27\n",
      "28 29 30\n",
      "\n"
     ]
    },
    {
     "data": {
      "text/plain": [
       "calendar.Calendar"
      ]
     },
     "execution_count": 13,
     "metadata": {},
     "output_type": "execute_result"
    }
   ],
   "source": [
    "# Program to display calendar of a given month and year\n",
    "\n",
    "# importing calendar module\n",
    "import calendar as cl\n",
    "\n",
    "# Taking month and year as input from the user\n",
    "y = int(input(\"Enter year: \"))\n",
    "m = int(input(\"Enter month: \"))\n",
    "print('\\n')\n",
    "\n",
    "# displaying calender of month and year of choice\n",
    "print(cl.month(y, m))\n",
    "cl."
   ]
  },
  {
   "cell_type": "markdown",
   "metadata": {},
   "source": [
    "4.\tWrite a Python program to solve quadratic equation?"
   ]
  },
  {
   "cell_type": "code",
   "execution_count": 15,
   "metadata": {},
   "outputs": [
    {
     "name": "stdout",
     "output_type": "stream",
     "text": [
      "Enter co-efficient of X-Square: 1\n",
      "Enter co-efficient of X: 2\n",
      "Enter value of C: 1\n",
      "The solutions for the quadratic equation are (-1+0j) and (-1+0j)\n"
     ]
    }
   ],
   "source": [
    "# Solving a quadratic equation \n",
    "\n",
    "# import complex math module\n",
    "import cmath as cm\n",
    "\n",
    "a = int(input(\"Enter co-efficient of X-Square: \"))\n",
    "b = int(input(\"Enter co-efficient of X: \"))\n",
    "c = int(input(\"Enter value of C: \"))\n",
    "\n",
    "# calculation of discriminant\n",
    "d = (b**2) - (4*a*c)\n",
    "sqd = cm.sqrt(d)\n",
    "\n",
    "# finding the solutions\n",
    "X1 = (-b - sqd) / (2 * a)\n",
    "X2 = (-b + sqd) / (2 * a)\n",
    "\n",
    "print('The solutions for the quadratic equation are {} and {}'.format(X1,X2))"
   ]
  },
  {
   "cell_type": "markdown",
   "metadata": {},
   "source": [
    "5.\tWrite a Python program to swap two variables without temp variable?"
   ]
  },
  {
   "cell_type": "code",
   "execution_count": 11,
   "metadata": {},
   "outputs": [],
   "source": [
    "# Program to swap values of two variables without temporary variable\n",
    "\n",
    "# Defining function to implement swpping\n",
    "def swap(a,b):\n",
    "    print('The values of a and b before swapping is {} and {} respectively'.format(a,b))\n",
    "    a,b = b,a\n",
    "    print('The values of a and b after swapping is {} and {} respectively'.format(a,b))"
   ]
  },
  {
   "cell_type": "code",
   "execution_count": 12,
   "metadata": {},
   "outputs": [
    {
     "name": "stdout",
     "output_type": "stream",
     "text": [
      "Enter the first number: 6\n",
      "Enter the second number: 7\n",
      "The values of a and b before swapping is 6 and 7 respectively\n",
      "The values of a and b after swapping is 7 and 6 respectively\n"
     ]
    }
   ],
   "source": [
    "# Taking the two numbers as input\n",
    "a = int(input('Enter the first number: '))\n",
    "b = int(input('Enter the second number: '))\n",
    "\n",
    "# Swapping the numbers\n",
    "swap(a,b)"
   ]
  }
 ],
 "metadata": {
  "kernelspec": {
   "display_name": "Python 3",
   "language": "python",
   "name": "python3"
  },
  "language_info": {
   "codemirror_mode": {
    "name": "ipython",
    "version": 3
   },
   "file_extension": ".py",
   "mimetype": "text/x-python",
   "name": "python",
   "nbconvert_exporter": "python",
   "pygments_lexer": "ipython3",
   "version": "3.8.5"
  }
 },
 "nbformat": 4,
 "nbformat_minor": 4
}
